{
 "cells": [
  {
   "cell_type": "markdown",
   "metadata": {},
   "source": [
    "# First Markdown "
   ]
  },
  {
   "cell_type": "markdown",
   "metadata": {},
   "source": [
    "## Entry Markdown"
   ]
  },
  {
   "cell_type": "markdown",
   "metadata": {},
   "source": [
    "#### Data science languages"
   ]
  },
  {
   "cell_type": "markdown",
   "metadata": {},
   "source": [
    "1. Python\n",
    "2. SQL\n",
    "3. Scala\n",
    "4. Java\n",
    "5. C++\n",
    "6. Julia"
   ]
  },
  {
   "cell_type": "markdown",
   "metadata": {},
   "source": [
    "#### Data science libraries"
   ]
  },
  {
   "cell_type": "markdown",
   "metadata": {},
   "source": [
    "1. Pandas\n",
    "2. Numpy\n",
    "3. Matplotlib\n",
    "4. Seaborn\n",
    "5. Scikit-learn\n",
    "6. Keras\n",
    "7. TensorFlow\n",
    "8. PyTorch\n",
    "9. ggplot2"
   ]
  },
  {
   "cell_type": "markdown",
   "metadata": {},
   "source": [
    "| Data Management Tools | Operating System Tool | Data Integration and Transformation Tools | Data Visualization Tools | Model Deployment Tools | Model Monitoring | Code Asset Tools | Data Asset Tools |\n",
    "|---------|---------|---------|---------|---------|---------|---------|---------|\n",
    "| MySQL  | Jupyter  |  Spark SQL  | PixieDust | PredictionIO  | AI Fairnes 360  | Git  | Egeria  |\n",
    "| PostgreSQL  | Pycharm | Kubeflow | Kibana | Seldon | AI Explainability 360 | GitLab | Kylo |\n",
    "| Cassandra | RStudio | Node-RED | Hue | Kubernetes | Prometheus | GitHub | Atlas |\n",
    "| Elasticsearch | Spyder | Airflow | Superset | Open Shift | ModelDB | Bitbucket |  |\n",
    "| Ceph | Microsoft Visual Studio | Nifi | | MLeap |  |  | |\n",
    "| CouchDB | Anaconda Navigator | Kafka | | TensorFlow Serving |  |  | |\n",
    "| MongoDB |  |  | | TensorFlow Lite ||  | |\n",
    "| Hadoop |  |  |  | TensorFlow.js |  |  |  |\n"
   ]
  },
  {
   "cell_type": "markdown",
   "metadata": {},
   "source": [
    "#### 1. Aritmetik İfadeler\n",
    "\n",
    "- Toplama: $a + b = c$\n",
    "- Çıkarma: $a - b = c$\n",
    "- Çarpma: $a \\times b = c$\n",
    "- Bölme: $\\frac{a}{b} = c$\n",
    "- Üs Alma: $a^b = c$"
   ]
  },
  {
   "cell_type": "code",
   "execution_count": 22,
   "metadata": {},
   "outputs": [
    {
     "name": "stdin",
     "output_type": "stream",
     "text": [
      "Birinci sayıyı girin:  4444\n",
      "İkinci sayıyı girin:  33\n"
     ]
    },
    {
     "name": "stdout",
     "output_type": "stream",
     "text": [
      "4444.0 ile 33.0 çarpımı: 146652.0\n",
      "4444.0 ile 33.0 toplamı: 4477.0\n"
     ]
    }
   ],
   "source": [
    "#### addition and multiplication operations\n",
    "\n",
    "\n",
    "sayi1 = float(input(\"Birinci sayıyı girin: \"))\n",
    "sayi2 = float(input(\"İkinci sayıyı girin: \"))\n",
    "\n",
    "\n",
    "carpim = sayi1 * sayi2\n",
    "toplam = sayi1 + sayi2\n",
    "\n",
    "\n",
    "print(f\"{sayi1} ile {sayi2} çarpımı: {carpim}\")\n",
    "print(f\"{sayi1} ile {sayi2} toplamı: {toplam}\")\n"
   ]
  },
  {
   "cell_type": "code",
   "execution_count": 23,
   "metadata": {},
   "outputs": [
    {
     "name": "stdin",
     "output_type": "stream",
     "text": [
      "lütfen tam sayı giriniz 46345\n"
     ]
    },
    {
     "name": "stdout",
     "output_type": "stream",
     "text": [
      "772 hour 25 minute\n"
     ]
    }
   ],
   "source": [
    "# Minute to Hour\n",
    "\n",
    "\n",
    "def minute_to_hour(value):\n",
    "    hour = value // 60\n",
    "    minute = value % 60\n",
    "    print(f\"{hour} hour {minute} minute\")\n",
    "    \n",
    "value = int(input(\"lütfen tam sayı giriniz\"))\n",
    "minute_to_hour(value)"
   ]
  },
  {
   "cell_type": "markdown",
   "metadata": {},
   "source": [
    "## My Goals\n",
    "\n",
    "### Short-Term Goals\n",
    "- [ ] Go for a daily walk.\n",
    "- [ ] Create a weekly task list.\n",
    "- [ ] Learn and memorize new English words.\n",
    "- [ ] Complete work on a specific project.\n",
    "\n",
    "### Medium-Term Goals\n",
    "- [ ] Achieve a basic level in a new programming language.\n",
    "- [ ] Propose an improvement idea at work.\n",
    "- [ ] Establish and maintain a healthy routine.\n",
    "- [ ] Build my personal blog.\n",
    "\n",
    "### Long-Term Goals\n",
    "- [ ] Achieve financial independence.\n",
    "- [ ] Write and complete a book.\n",
    "- [ ] Speak at an international conference.\n",
    "- [ ] Attain my desired position in my career."
   ]
  },
  {
   "cell_type": "markdown",
   "metadata": {},
   "source": [
    "### Author\n",
    "**Name:** Ali Ramazan Korkmaz\n",
    "**Date:** November 16, 2024  \n",
    "\n"
   ]
  },
  {
   "cell_type": "code",
   "execution_count": null,
   "metadata": {},
   "outputs": [],
   "source": []
  }
 ],
 "metadata": {
  "kernelspec": {
   "display_name": "Python 3 (ipykernel)",
   "language": "python",
   "name": "python3"
  },
  "language_info": {
   "codemirror_mode": {
    "name": "ipython",
    "version": 3
   },
   "file_extension": ".py",
   "mimetype": "text/x-python",
   "name": "python",
   "nbconvert_exporter": "python",
   "pygments_lexer": "ipython3",
   "version": "3.11.9"
  }
 },
 "nbformat": 4,
 "nbformat_minor": 4
}
